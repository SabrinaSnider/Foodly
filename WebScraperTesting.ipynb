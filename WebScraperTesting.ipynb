{
 "cells": [
  {
   "cell_type": "code",
   "execution_count": 1,
   "metadata": {},
   "outputs": [],
   "source": [
    "import requests\n",
    "from bs4 import BeautifulSoup"
   ]
  },
  {
   "cell_type": "markdown",
   "metadata": {},
   "source": [
    "## General Experimentation"
   ]
  },
  {
   "cell_type": "code",
   "execution_count": 2,
   "metadata": {},
   "outputs": [
    {
     "data": {
      "text/plain": [
       "<Response [200]>"
      ]
     },
     "execution_count": 2,
     "metadata": {},
     "output_type": "execute_result"
    }
   ],
   "source": [
    "page = requests.get(\"http://dataquestio.github.io/web-scraping-pages/simple.html\")\n",
    "page"
   ]
  },
  {
   "cell_type": "code",
   "execution_count": 3,
   "metadata": {},
   "outputs": [
    {
     "data": {
      "text/plain": [
       "<!DOCTYPE html>\n",
       "\n",
       "<html>\n",
       "<head>\n",
       "<title>A simple example page</title>\n",
       "</head>\n",
       "<body>\n",
       "<p>Here is some simple content for this page.</p>\n",
       "</body>\n",
       "</html>"
      ]
     },
     "execution_count": 3,
     "metadata": {},
     "output_type": "execute_result"
    }
   ],
   "source": [
    "soup = BeautifulSoup(page.content, 'html.parser')\n",
    "soup"
   ]
  },
  {
   "cell_type": "code",
   "execution_count": 4,
   "metadata": {},
   "outputs": [
    {
     "data": {
      "text/plain": [
       "3"
      ]
     },
     "execution_count": 4,
     "metadata": {},
     "output_type": "execute_result"
    }
   ],
   "source": [
    "len(list(soup.children))"
   ]
  },
  {
   "cell_type": "code",
   "execution_count": 5,
   "metadata": {},
   "outputs": [
    {
     "data": {
      "text/plain": [
       "'html'"
      ]
     },
     "execution_count": 5,
     "metadata": {},
     "output_type": "execute_result"
    }
   ],
   "source": [
    "list(soup.children)[0]"
   ]
  },
  {
   "cell_type": "code",
   "execution_count": 6,
   "metadata": {},
   "outputs": [
    {
     "data": {
      "text/plain": [
       "'\\n'"
      ]
     },
     "execution_count": 6,
     "metadata": {},
     "output_type": "execute_result"
    }
   ],
   "source": [
    "list(soup.children)[1]"
   ]
  },
  {
   "cell_type": "code",
   "execution_count": 7,
   "metadata": {},
   "outputs": [
    {
     "data": {
      "text/plain": [
       "<html>\n",
       "<head>\n",
       "<title>A simple example page</title>\n",
       "</head>\n",
       "<body>\n",
       "<p>Here is some simple content for this page.</p>\n",
       "</body>\n",
       "</html>"
      ]
     },
     "execution_count": 7,
     "metadata": {},
     "output_type": "execute_result"
    }
   ],
   "source": [
    "list(soup.children)[2]"
   ]
  },
  {
   "cell_type": "code",
   "execution_count": 8,
   "metadata": {},
   "outputs": [
    {
     "data": {
      "text/plain": [
       "[bs4.element.Doctype, bs4.element.NavigableString, bs4.element.Tag]"
      ]
     },
     "execution_count": 8,
     "metadata": {},
     "output_type": "execute_result"
    }
   ],
   "source": [
    "[type(item) for item in list(soup.children)]"
   ]
  },
  {
   "cell_type": "markdown",
   "metadata": {},
   "source": [
    "- The `Doctype` object contains information about the type of the document.\n",
    "- The `NavigableString` object represents text found in the HTML document.\n",
    "- The `Tag` object contains other nested tags."
   ]
  },
  {
   "cell_type": "code",
   "execution_count": 9,
   "metadata": {},
   "outputs": [],
   "source": [
    "tags = list(soup.children)[2]"
   ]
  },
  {
   "cell_type": "code",
   "execution_count": 10,
   "metadata": {},
   "outputs": [
    {
     "data": {
      "text/plain": [
       "['\\n',\n",
       " <head>\n",
       " <title>A simple example page</title>\n",
       " </head>,\n",
       " '\\n',\n",
       " <body>\n",
       " <p>Here is some simple content for this page.</p>\n",
       " </body>,\n",
       " '\\n']"
      ]
     },
     "execution_count": 10,
     "metadata": {},
     "output_type": "execute_result"
    }
   ],
   "source": [
    "list(tags)"
   ]
  },
  {
   "cell_type": "code",
   "execution_count": 11,
   "metadata": {},
   "outputs": [],
   "source": [
    "body = list(tags.children)[3]"
   ]
  },
  {
   "cell_type": "code",
   "execution_count": 12,
   "metadata": {},
   "outputs": [
    {
     "data": {
      "text/plain": [
       "bs4.element.Tag"
      ]
     },
     "execution_count": 12,
     "metadata": {},
     "output_type": "execute_result"
    }
   ],
   "source": [
    "type(body)"
   ]
  },
  {
   "cell_type": "code",
   "execution_count": 13,
   "metadata": {},
   "outputs": [
    {
     "data": {
      "text/plain": [
       "['\\n', <p>Here is some simple content for this page.</p>, '\\n']"
      ]
     },
     "execution_count": 13,
     "metadata": {},
     "output_type": "execute_result"
    }
   ],
   "source": [
    "list(body.children)"
   ]
  },
  {
   "cell_type": "code",
   "execution_count": 14,
   "metadata": {},
   "outputs": [
    {
     "data": {
      "text/plain": [
       "'Here is some simple content for this page.'"
      ]
     },
     "execution_count": 14,
     "metadata": {},
     "output_type": "execute_result"
    }
   ],
   "source": [
    "list(body.children)[1].get_text()"
   ]
  },
  {
   "cell_type": "code",
   "execution_count": 15,
   "metadata": {},
   "outputs": [
    {
     "data": {
      "text/plain": [
       "['abc-123', 'abc-456']"
      ]
     },
     "execution_count": 15,
     "metadata": {},
     "output_type": "execute_result"
    }
   ],
   "source": [
    "some_list = ['abc-123', 'def-456', 'ghi-789', 'abc-456']\n",
    "matching = [s for s in some_list if \"abc\" in s]\n",
    "matching"
   ]
  },
  {
   "cell_type": "markdown",
   "metadata": {},
   "source": [
    "## Applying to Publix"
   ]
  },
  {
   "cell_type": "code",
   "execution_count": 2,
   "metadata": {},
   "outputs": [],
   "source": [
    "publixProductUrl = \"http://publix.com/pd/grape-tomatoes/RIO-PCI-108357\""
   ]
  },
  {
   "cell_type": "markdown",
   "metadata": {},
   "source": [
    "### Experimenting"
   ]
  },
  {
   "cell_type": "code",
   "execution_count": 8,
   "metadata": {},
   "outputs": [],
   "source": [
    "# Store location for the search\n",
    "butlerStoreCookie = \"%7B%22StoreName%22%3A%22Butler%20Plaza%20West%22%2C%22StoreNumber%22%3A1312%2C%22Option%22%3A%22ACDFJNORU%22%2C%22ShortStoreName%22%3A%22Butler%20Plaza%20West%22%7D\""
   ]
  },
  {
   "cell_type": "code",
   "execution_count": 9,
   "metadata": {},
   "outputs": [
    {
     "data": {
      "text/plain": [
       "<Response [200]>"
      ]
     },
     "execution_count": 9,
     "metadata": {},
     "output_type": "execute_result"
    }
   ],
   "source": [
    "# Set location by sending a cookie through a session\n",
    "publixSession = requests.Session()\n",
    "publixSession.post(publixProductUrl, cookies = {'Store': butlerStoreCookie})"
   ]
  },
  {
   "cell_type": "code",
   "execution_count": 10,
   "metadata": {},
   "outputs": [],
   "source": [
    "publixPageRequest = publixSession.get(publixProductUrl)\n",
    "publixPageParsed = BeautifulSoup(publixPageRequest.content, 'html.parser')"
   ]
  },
  {
   "cell_type": "code",
   "execution_count": 11,
   "metadata": {},
   "outputs": [],
   "source": [
    "productLocationList = publixPageParsed.findAll(\"li\", {\"class\" : \"location\"})"
   ]
  },
  {
   "cell_type": "code",
   "execution_count": 12,
   "metadata": {},
   "outputs": [
    {
     "data": {
      "text/plain": [
       "'Produce'"
      ]
     },
     "execution_count": 12,
     "metadata": {},
     "output_type": "execute_result"
    }
   ],
   "source": [
    "productLocationList[0].find(\"span\").get_text()"
   ]
  },
  {
   "cell_type": "code",
   "execution_count": 13,
   "metadata": {},
   "outputs": [],
   "source": [
    "storeJSON = {\"StoreName\":\"Butler Plaza West\",\"StoreNumber\":1312,\"Option\":\"ACDFJNORU\",\"ShortStoreName\":\"Butler Plaza West\"}"
   ]
  },
  {
   "cell_type": "code",
   "execution_count": 14,
   "metadata": {},
   "outputs": [
    {
     "data": {
      "text/plain": [
       "<Response [200]>"
      ]
     },
     "execution_count": 14,
     "metadata": {},
     "output_type": "execute_result"
    }
   ],
   "source": [
    "session = requests.Session()\n",
    "session.post(publixProductUrl, json = storeJSON)"
   ]
  },
  {
   "cell_type": "code",
   "execution_count": 15,
   "metadata": {},
   "outputs": [],
   "source": [
    "request = session.get(publixProductUrl)\n",
    "page = BeautifulSoup(request.content, 'html.parser')"
   ]
  },
  {
   "cell_type": "code",
   "execution_count": 16,
   "metadata": {},
   "outputs": [
    {
     "data": {
      "text/plain": [
       "[]"
      ]
     },
     "execution_count": 16,
     "metadata": {},
     "output_type": "execute_result"
    }
   ],
   "source": [
    "page.findAll(\"li\", {\"class\" : \"location\"})"
   ]
  },
  {
   "cell_type": "markdown",
   "metadata": {},
   "source": [
    "### Searching for an item"
   ]
  },
  {
   "cell_type": "code",
   "execution_count": 51,
   "metadata": {},
   "outputs": [],
   "source": [
    "PUBLIX_API_URL = \"https://services.publix.com/api/v3/product/Search?storeNumber=537&keyword=tomato\""
   ]
  },
  {
   "cell_type": "code",
   "execution_count": 53,
   "metadata": {},
   "outputs": [],
   "source": [
    "publix_api_response = requests.get(PUBLIX_API_URL)"
   ]
  },
  {
   "cell_type": "code",
   "execution_count": 67,
   "metadata": {},
   "outputs": [],
   "source": [
    "products = publix_api_response.json()[\"Products\"]"
   ]
  },
  {
   "cell_type": "code",
   "execution_count": 69,
   "metadata": {},
   "outputs": [
    {
     "data": {
      "text/plain": [
       "{'Productid': 'RIO-PCI-108400',\n",
       " 'itemcode': '25470',\n",
       " 'title': 'Campari Tomatoes',\n",
       " 'shortdescription1': None,\n",
       " 'shortdescription2': None,\n",
       " 'limitedquantitymsg': None,\n",
       " 'priceline1': None,\n",
       " 'priceline2': None,\n",
       " 'displaytype': 'UQ1',\n",
       " 'savingmsg': None,\n",
       " 'validthrumsg': None,\n",
       " 'onsalemsg': None,\n",
       " 'rssinfo': '205',\n",
       " 'rsslocation': 'Produce',\n",
       " 'productimages': 'https://cutpcdnwimages.azureedge.net/images/products/25000/025470-75x75-A.jpg',\n",
       " 'productimagesxl': 'https://cutpcdnwimages.azureedge.net/images/products/25000/025470-600x600-A.jpg',\n",
       " 'activationstatus': 'A',\n",
       " 'productmoreinfo': None,\n",
       " 'specialpromotion': None,\n",
       " 'age': 0,\n",
       " 'sizeDescription': '16 oz Container',\n",
       " 'nutritionalDescription': None,\n",
       " 'advertising': False,\n",
       " 'MarketingImages': [{'ImageURL': 'https://cutpcdnwimages.azureedge.net/images/static/MarketingIndicator/Natural-96x65.png',\n",
       "   'Title': 'Made w/o artificial flavors, colors, preservatives &ndash; may contain colors from natural sources.',\n",
       "   'Url': None}],\n",
       " 'NoImageUrl': 'https://cutpcdnwimages.azureedge.net/images/static/NoImage/No-image.svg',\n",
       " 'fauxTaxonomy': ['Produce/Tomatoes'],\n",
       " 'favoriteProductId': None,\n",
       " 'groceryListItemId': ''}"
      ]
     },
     "execution_count": 69,
     "metadata": {},
     "output_type": "execute_result"
    }
   ],
   "source": [
    "products[0]"
   ]
  },
  {
   "cell_type": "code",
   "execution_count": 59,
   "metadata": {},
   "outputs": [
    {
     "data": {
      "text/plain": [
       "20"
      ]
     },
     "execution_count": 59,
     "metadata": {},
     "output_type": "execute_result"
    }
   ],
   "source": [
    "len(publix_api_response.json()[\"Products\"])"
   ]
  },
  {
   "cell_type": "code",
   "execution_count": 73,
   "metadata": {},
   "outputs": [
    {
     "name": "stdout",
     "output_type": "stream",
     "text": [
      "Produce/TomatoesCampari Tomatoes 25470\n",
      "Produce/TomatoesPlum Tomatoes 23332\n",
      "Produce/TomatoesBeefsteak Tomato 25319\n",
      "Produce/TomatoesGrape Tomatoes 25436\n",
      "Produce/TomatoesTomatoes on the Vine 25320\n",
      "Grocery/Canned Vegetables/TomatoesHunts Tomatoes, Puree 3404\n",
      "Grocery/Canned Vegetables/TomatoesGia Russa Tomato 1192\n",
      "Produce/TomatoesVine-Ripe Tomatoes 23325\n",
      "Produce/Organic/TomatoesOrganic Tomatoes on the Vine 24112\n",
      "Produce/Diced and Prepared VegetablesIncredibleFresh Tomato, Diced 23733\n",
      "Produce/Diced and Prepared VegetablesIncredibleFresh Tomato Trinity 25263\n",
      "Produce/Organic/TomatoesSignature Brand Organics Grape Tomatoes, Organic 25698\n",
      "Produce/TomatoesVillage Farms Tomatoes, Heavenly Villagio Marzano 955156\n",
      "Grocery/Canned Vegetables/TomatoesCento Tomato Paste, Organic, Double Concentrated 977443\n",
      "Grocery/Canned Vegetables/TomatoesMuir Glen Tomatoes, Organic, Fire Roasted, Crushed 919345\n",
      "Grocery/Canned Vegetables/TomatoesTuttorosso Tomatoes, in Puree, San Marzano Style, Chopped 238555\n",
      "Grocery/Rice Pasta and Sauces/Specialty SaucesMezzetta Basil Pesto 200954\n",
      "Grocery/Canned Vegetables/TomatoesFlora Tomatoes, Crushed, in Tomato Puree, Italian 873493\n",
      "Grocery/Canned Vegetables/TomatoesFlora San Marzano Tomato, in Tomato Juice 136474\n",
      "Grocery/Canned Vegetables/TomatoesFlora Tomatoes, in Tomato Puree, Italian Peeled 136469\n"
     ]
    }
   ],
   "source": [
    "for item in publix_api_response.json()[\"Products\"]:\n",
    "    print(item['fauxTaxonomy'][0] + item[\"title\"] + \" \" + item[\"itemcode\"])"
   ]
  },
  {
   "cell_type": "code",
   "execution_count": 15,
   "metadata": {},
   "outputs": [],
   "source": [
    "def getPublixProductID(itemName):\n",
    "    url = \"https://services.publix.com/api/v3/product/Search?storeNumber=537&keyword=\" + itemName\n",
    "    \n",
    "    api_response = requests.get(url).json()\n",
    "    \n",
    "    if(len(api_response[\"Products\"]) == 0):\n",
    "        return None\n",
    "    \n",
    "    return api_response[\"Products\"][0][\"Productid\"]"
   ]
  },
  {
   "cell_type": "code",
   "execution_count": 16,
   "metadata": {},
   "outputs": [
    {
     "data": {
      "text/plain": [
       "'RIO-PCI-126971'"
      ]
     },
     "execution_count": 16,
     "metadata": {},
     "output_type": "execute_result"
    }
   ],
   "source": [
    "getPublixProductID(\"cheerios\")"
   ]
  },
  {
   "cell_type": "code",
   "execution_count": 17,
   "metadata": {},
   "outputs": [],
   "source": [
    "def getPublixLocation(itemName):\n",
    "    # Store location for the search\n",
    "    STORE_COOKIE = \"%7B%22StoreName%22%3A%22Butler%20Plaza%20West%22%2C%22StoreNumber%22%3A1312%2C%22Option%22%3A%22ACDFJNORU%22%2C%22ShortStoreName%22%3A%22Butler%20Plaza%20West%22%7D\"\n",
    "    \n",
    "    # Get product ID from Publix\n",
    "    productID = getPublixProductID(itemName)\n",
    "    url = \"http://publix.com/pd/\" + productID\n",
    "    \n",
    "    # Set location by sending a cookie through a session.\n",
    "    session = requests.Session()\n",
    "    session.post(url, cookies = {'Store': STORE_COOKIE})\n",
    "    \n",
    "    # Make get request for product page information.\n",
    "    request = session.get(url)\n",
    "    page = BeautifulSoup(request.content, 'html.parser')\n",
    "    \n",
    "    # Extract location from page.\n",
    "    locationTags = page.findAll(\"li\", {\"class\" : \"location\"})\n",
    "    \n",
    "    return locationTags[0].find(\"span\").get_text()"
   ]
  },
  {
   "cell_type": "code",
   "execution_count": 18,
   "metadata": {},
   "outputs": [
    {
     "data": {
      "text/plain": [
       "'Aisle 5 - Cereals'"
      ]
     },
     "execution_count": 18,
     "metadata": {},
     "output_type": "execute_result"
    }
   ],
   "source": [
    "getPublixLocation(\"cheerios\")"
   ]
  },
  {
   "cell_type": "markdown",
   "metadata": {},
   "source": [
    "## Extract location from string"
   ]
  },
  {
   "cell_type": "code",
   "execution_count": 1,
   "metadata": {},
   "outputs": [],
   "source": [
    "testLocation = 'Aisle 5 - Cereals'"
   ]
  },
  {
   "cell_type": "code",
   "execution_count": 7,
   "metadata": {},
   "outputs": [],
   "source": [
    "def extractLocation(location) :\n",
    "    split = location.split(' - ')\n",
    "    if len(split) > 1:\n",
    "        return {\n",
    "            \"location\": split[0],\n",
    "            \"section\": split[1],\n",
    "        }\n",
    "    else:\n",
    "        return {\n",
    "            \"location\": split[0]\n",
    "        }"
   ]
  },
  {
   "cell_type": "code",
   "execution_count": 8,
   "metadata": {},
   "outputs": [
    {
     "data": {
      "text/plain": [
       "{'location': 'Aisle 5', 'section': 'Cereals'}"
      ]
     },
     "execution_count": 8,
     "metadata": {},
     "output_type": "execute_result"
    }
   ],
   "source": [
    "extractLocation(testLocation)"
   ]
  },
  {
   "cell_type": "code",
   "execution_count": 9,
   "metadata": {},
   "outputs": [
    {
     "data": {
      "text/plain": [
       "{'location': 'Produce'}"
      ]
     },
     "execution_count": 9,
     "metadata": {},
     "output_type": "execute_result"
    }
   ],
   "source": [
    "extractLocation(\"Produce\")"
   ]
  },
  {
   "cell_type": "markdown",
   "metadata": {},
   "source": [
    "## Pandas"
   ]
  },
  {
   "cell_type": "code",
   "execution_count": 4,
   "metadata": {},
   "outputs": [],
   "source": [
    "import json\n",
    "import pandas as pd"
   ]
  },
  {
   "cell_type": "code",
   "execution_count": 34,
   "metadata": {},
   "outputs": [],
   "source": [
    "data = [\n",
    "  {\n",
    "    \"id\": 1,\n",
    "    \"name\": \"tortillas\",\n",
    "    \"obtained\": False,\n",
    "    \"publixLocation\": \"Aisle 4\",\n",
    "    \"publixSection\": \"Tortillas/Pita\"\n",
    "  },\n",
    "  {\n",
    "    \"id\": 4,\n",
    "    \"name\": \"other\",\n",
    "    \"obtained\": False,\n",
    "    \"publixLocation\": \"Aisle 4\",\n",
    "    \"publixSection\": \"Tortillas/Pita\"\n",
    "  },\n",
    "  {\n",
    "    \"id\": 2,\n",
    "    \"name\": \"tomato\",\n",
    "    \"obtained\": False,\n",
    "    \"publixLocation\": \"Produce\",\n",
    "    \"publixSection\": None\n",
    "  },\n",
    "  {\n",
    "    \"id\": 3,\n",
    "    \"name\": \"caprisun\",\n",
    "    \"obtained\": False,\n",
    "    \"publixLocation\": \"Aisle 2\",\n",
    "    \"publixSection\": \"Fruit Drinks\"\n",
    "  },\n",
    "    {\n",
    "    \"id\": 4,\n",
    "    \"name\": \"other2\",\n",
    "    \"obtained\": False,\n",
    "    \"publixLocation\": \"Aisle 4\",\n",
    "    \"publixSection\": \"Tortillas/Pita\"\n",
    "  },\n",
    "]"
   ]
  },
  {
   "cell_type": "code",
   "execution_count": 35,
   "metadata": {},
   "outputs": [
    {
     "data": {
      "text/plain": [
       "[{'id': 1,\n",
       "  'name': 'tortillas',\n",
       "  'obtained': False,\n",
       "  'publixLocation': 'Aisle 4',\n",
       "  'publixSection': 'Tortillas/Pita'},\n",
       " {'id': 2,\n",
       "  'name': 'tomato',\n",
       "  'obtained': False,\n",
       "  'publixLocation': 'Produce',\n",
       "  'publixSection': None},\n",
       " {'id': 3,\n",
       "  'name': 'caprisun',\n",
       "  'obtained': False,\n",
       "  'publixLocation': 'Aisle 2',\n",
       "  'publixSection': 'Fruit Drinks'}]"
      ]
     },
     "execution_count": 35,
     "metadata": {},
     "output_type": "execute_result"
    }
   ],
   "source": [
    "data"
   ]
  },
  {
   "cell_type": "code",
   "execution_count": 43,
   "metadata": {},
   "outputs": [],
   "source": [
    "def groupByLocation(data, key):\n",
    "  dataframe = pd.DataFrame(data)\n",
    "  return dataframe.groupby(key).apply(lambda x: x.to_dict(orient='records'))"
   ]
  },
  {
   "cell_type": "code",
   "execution_count": 44,
   "metadata": {},
   "outputs": [
    {
     "data": {
      "text/plain": [
       "{'Aisle 2': [{'id': 3,\n",
       "   'name': 'caprisun',\n",
       "   'obtained': False,\n",
       "   'publixLocation': 'Aisle 2',\n",
       "   'publixSection': 'Fruit Drinks'}],\n",
       " 'Aisle 4': [{'id': 1,\n",
       "   'name': 'tortillas',\n",
       "   'obtained': False,\n",
       "   'publixLocation': 'Aisle 4',\n",
       "   'publixSection': 'Tortillas/Pita'}],\n",
       " 'Produce': [{'id': 2,\n",
       "   'name': 'tomato',\n",
       "   'obtained': False,\n",
       "   'publixLocation': 'Produce',\n",
       "   'publixSection': None}]}"
      ]
     },
     "execution_count": 44,
     "metadata": {},
     "output_type": "execute_result"
    }
   ],
   "source": [
    "groupByLocation(data, 'publixLocation').to_dict()"
   ]
  },
  {
   "cell_type": "code",
   "execution_count": null,
   "metadata": {},
   "outputs": [],
   "source": []
  }
 ],
 "metadata": {
  "kernelspec": {
   "display_name": "Python 3",
   "language": "python",
   "name": "python3"
  },
  "language_info": {
   "codemirror_mode": {
    "name": "ipython",
    "version": 3
   },
   "file_extension": ".py",
   "mimetype": "text/x-python",
   "name": "python",
   "nbconvert_exporter": "python",
   "pygments_lexer": "ipython3",
   "version": "3.7.7"
  }
 },
 "nbformat": 4,
 "nbformat_minor": 4
}
